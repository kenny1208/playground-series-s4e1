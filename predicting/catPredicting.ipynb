{
 "cells": [
  {
   "cell_type": "code",
   "execution_count": null,
   "metadata": {},
   "outputs": [],
   "source": [
    "import pandas as pd\n",
    "from sklearn.model_selection import StratifiedKFold\n",
    "from catboost import CatBoostClassifier\n",
    "from xgboost import XGBClassifier\n",
    "from sklearn.ensemble import StackingClassifier\n",
    "from sklearn.neural_network import MLPClassifier\n",
    "from sklearn.metrics import accuracy_score\n",
    "import numpy as np"
   ]
  },
  {
   "cell_type": "code",
   "execution_count": null,
   "metadata": {},
   "outputs": [],
   "source": [
    "train_df = pd.read_csv(\"../train.csv\")\n",
    "test_df = pd.read_csv(\"../test.csv\")\n"
   ]
  },
  {
   "cell_type": "code",
   "execution_count": null,
   "metadata": {},
   "outputs": [],
   "source": [
    "\n",
    "def split(title, df):\n",
    "    return df.drop(title, axis=1), df[title]"
   ]
  },
  {
   "cell_type": "code",
   "execution_count": null,
   "metadata": {},
   "outputs": [],
   "source": [
    "x, y = split(\"Exited\", train_df.drop([\"id\", \"CustomerId\"], axis=1))"
   ]
  },
  {
   "cell_type": "code",
   "execution_count": 61,
   "metadata": {},
   "outputs": [
    {
     "name": "stdout",
     "output_type": "stream",
     "text": [
      "Learning rate set to 0.082881\n",
      "0:\tlearn: 0.6159828\ttotal: 102ms\tremaining: 1m 41s\n",
      "100:\tlearn: 0.3120348\ttotal: 9.99s\tremaining: 1m 28s\n",
      "200:\tlearn: 0.3074583\ttotal: 20s\tremaining: 1m 19s\n",
      "300:\tlearn: 0.3040556\ttotal: 30.2s\tremaining: 1m 10s\n",
      "400:\tlearn: 0.3012404\ttotal: 39.7s\tremaining: 59.3s\n",
      "500:\tlearn: 0.2986759\ttotal: 49.2s\tremaining: 49s\n",
      "600:\tlearn: 0.2964553\ttotal: 58.7s\tremaining: 39s\n",
      "700:\tlearn: 0.2942208\ttotal: 1m 8s\tremaining: 29.1s\n",
      "800:\tlearn: 0.2921447\ttotal: 1m 17s\tremaining: 19.3s\n",
      "900:\tlearn: 0.2901569\ttotal: 1m 27s\tremaining: 9.59s\n",
      "999:\tlearn: 0.2881942\ttotal: 1m 39s\tremaining: 0us\n",
      "Learning rate set to 0.082881\n",
      "0:\tlearn: 0.6158024\ttotal: 102ms\tremaining: 1m 42s\n",
      "100:\tlearn: 0.3123253\ttotal: 9.87s\tremaining: 1m 27s\n",
      "200:\tlearn: 0.3075360\ttotal: 19.8s\tremaining: 1m 18s\n",
      "300:\tlearn: 0.3040213\ttotal: 29.8s\tremaining: 1m 9s\n",
      "400:\tlearn: 0.3011413\ttotal: 40.4s\tremaining: 1m\n",
      "500:\tlearn: 0.2987135\ttotal: 50.5s\tremaining: 50.3s\n",
      "600:\tlearn: 0.2964684\ttotal: 1m\tremaining: 40.1s\n",
      "700:\tlearn: 0.2943606\ttotal: 1m 10s\tremaining: 30.1s\n",
      "800:\tlearn: 0.2922961\ttotal: 1m 20s\tremaining: 20s\n",
      "900:\tlearn: 0.2902707\ttotal: 1m 30s\tremaining: 9.95s\n",
      "999:\tlearn: 0.2882854\ttotal: 1m 40s\tremaining: 0us\n",
      "Learning rate set to 0.082881\n",
      "0:\tlearn: 0.6157363\ttotal: 102ms\tremaining: 1m 41s\n",
      "100:\tlearn: 0.3124603\ttotal: 9.93s\tremaining: 1m 28s\n",
      "200:\tlearn: 0.3079601\ttotal: 19.9s\tremaining: 1m 19s\n",
      "300:\tlearn: 0.3048104\ttotal: 29.8s\tremaining: 1m 9s\n",
      "400:\tlearn: 0.3020285\ttotal: 39.9s\tremaining: 59.7s\n",
      "500:\tlearn: 0.2995653\ttotal: 50.1s\tremaining: 49.9s\n",
      "600:\tlearn: 0.2971368\ttotal: 1m\tremaining: 40s\n",
      "700:\tlearn: 0.2950813\ttotal: 1m 10s\tremaining: 30s\n",
      "800:\tlearn: 0.2931325\ttotal: 1m 20s\tremaining: 20s\n",
      "900:\tlearn: 0.2911487\ttotal: 1m 30s\tremaining: 9.93s\n",
      "999:\tlearn: 0.2893955\ttotal: 1m 40s\tremaining: 0us\n",
      "Learning rate set to 0.082881\n",
      "0:\tlearn: 0.6159779\ttotal: 97.4ms\tremaining: 1m 37s\n",
      "100:\tlearn: 0.3125605\ttotal: 9.82s\tremaining: 1m 27s\n",
      "200:\tlearn: 0.3081075\ttotal: 20s\tremaining: 1m 19s\n",
      "300:\tlearn: 0.3047184\ttotal: 30.2s\tremaining: 1m 10s\n",
      "400:\tlearn: 0.3018632\ttotal: 40.7s\tremaining: 1m\n",
      "500:\tlearn: 0.2994245\ttotal: 51.2s\tremaining: 51s\n",
      "600:\tlearn: 0.2969625\ttotal: 1m 2s\tremaining: 41.2s\n",
      "700:\tlearn: 0.2947895\ttotal: 1m 13s\tremaining: 31.2s\n",
      "800:\tlearn: 0.2926993\ttotal: 1m 24s\tremaining: 20.9s\n",
      "900:\tlearn: 0.2905451\ttotal: 1m 34s\tremaining: 10.4s\n",
      "999:\tlearn: 0.2887014\ttotal: 1m 45s\tremaining: 0us\n",
      "Learning rate set to 0.082882\n",
      "0:\tlearn: 0.6158163\ttotal: 129ms\tremaining: 2m 8s\n",
      "100:\tlearn: 0.3119973\ttotal: 12s\tremaining: 1m 46s\n",
      "200:\tlearn: 0.3073582\ttotal: 23.7s\tremaining: 1m 34s\n",
      "300:\tlearn: 0.3039268\ttotal: 36.1s\tremaining: 1m 23s\n",
      "400:\tlearn: 0.3011055\ttotal: 47.9s\tremaining: 1m 11s\n",
      "500:\tlearn: 0.2985915\ttotal: 59s\tremaining: 58.7s\n"
     ]
    }
   ],
   "source": [
    "\n",
    "kf = StratifiedKFold(n_splits=5, shuffle=True, random_state=42)\n",
    "\n",
    "prediction_list = []\n",
    "accuracies = []\n",
    "for train_idx, test_idx in kf.split(x, y):\n",
    "    x_train, x_val = x.iloc[train_idx], x.iloc[test_idx]\n",
    "    y_train, y_val = y.iloc[train_idx], y.iloc[test_idx]\n",
    "    model = CatBoostClassifier(cat_features=[0, 2, 3])\n",
    "    model.fit(x_train, y_train, cat_features=[0, 2, 3], verbose=100) \n",
    "\n",
    "    # For testing\n",
    "    predictions = model.predict(x_val)\n",
    "    accuracy = accuracy_score(y_val, predictions)\n",
    "    accuracies.append(accuracy)\n",
    "\n",
    "    # For submitting\n",
    "    final_predictions = model.predict_proba(test_df.drop([\"id\", \"CustomerId\"], axis=1))[:, 1]\n",
    "    prediction_list.append(final_predictions)\n",
    "\n",
    "print(accuracies)\n",
    "print(np.mean(accuracies))"
   ]
  },
  {
   "cell_type": "code",
   "execution_count": null,
   "metadata": {},
   "outputs": [],
   "source": [
    "sample_df = pd.read_csv(\"../sample_submission.csv\")\n",
    "sample_df['Exited'] = np.mean(final_predictions)"
   ]
  },
  {
   "cell_type": "code",
   "execution_count": null,
   "metadata": {},
   "outputs": [],
   "source": [
    "sample_df.to_csv(\"lateSubmission.csv\", index=False)"
   ]
  }
 ],
 "metadata": {
  "kernelspec": {
   "display_name": "Python 3",
   "language": "python",
   "name": "python3"
  },
  "language_info": {
   "codemirror_mode": {
    "name": "ipython",
    "version": 3
   },
   "file_extension": ".py",
   "mimetype": "text/x-python",
   "name": "python",
   "nbconvert_exporter": "python",
   "pygments_lexer": "ipython3",
   "version": "3.10.11"
  }
 },
 "nbformat": 4,
 "nbformat_minor": 2
}
